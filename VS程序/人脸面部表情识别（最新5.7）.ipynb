{
 "cells": [
  {
   "cell_type": "code",
   "execution_count": 4,
   "metadata": {},
   "outputs": [],
   "source": [
    "#导入所需的包\n",
    "import os\n",
    "import numpy as np\n",
    "import matplotlib.pyplot as plt\n",
    "import keras\n",
    "from keras.models import Sequential\n",
    "from keras.layers import *\n",
    "from keras import models\n",
    "from keras.layers import Dense,Dropout,Flatten,Conv2D,MaxPool2D\n",
    "from keras.optimizers import RMSprop,Adam\n",
    "from keras.utils import to_categorical\n",
    "import tensorflow as tf\n",
    "from tensorflow.keras.models import Model"
   ]
  },
  {
   "cell_type": "code",
   "execution_count": 5,
   "metadata": {},
   "outputs": [
    {
     "data": {
      "text/plain": [
       "emotion    35887\n",
       "pixels     35887\n",
       "Usage      35887\n",
       "dtype: int64"
      ]
     },
     "execution_count": 5,
     "metadata": {},
     "output_type": "execute_result"
    }
   ],
   "source": [
    "#数据准备\n",
    "import pandas as pd\n",
    "import numpy as np\n",
    "data = pd.read_csv('fer2013.csv') #读取csv文件fer2013\n",
    "data.head() #输出表头第一行的内容\n",
    "data.count() #计算每一列内容的总数"
   ]
  },
  {
   "cell_type": "code",
   "execution_count": 6,
   "metadata": {},
   "outputs": [
    {
     "name": "stdout",
     "output_type": "stream",
     "text": [
      "       emotion                                             pixels     Usage\n",
      "0            0  70 80 82 72 58 58 60 63 54 58 60 48 89 115 121...  Training\n",
      "1            0  151 150 147 155 148 133 111 140 170 174 182 15...  Training\n",
      "2            2  231 212 156 164 174 138 161 173 182 200 106 38...  Training\n",
      "3            4  24 32 36 30 32 23 19 20 30 41 21 22 32 34 21 1...  Training\n",
      "4            6  4 0 0 0 0 0 0 0 0 0 0 0 3 15 23 28 48 50 58 84...  Training\n",
      "...        ...                                                ...       ...\n",
      "28704        2  84 85 85 85 85 85 85 85 86 86 86 87 86 86 91 9...  Training\n",
      "28705        0  114 112 113 113 111 111 112 113 115 113 114 11...  Training\n",
      "28706        4  74 81 87 89 95 100 98 93 105 120 127 133 146 1...  Training\n",
      "28707        0  222 227 203 90 86 90 84 77 94 87 99 119 134 14...  Training\n",
      "28708        4  195 199 205 206 205 203 206 209 208 210 212 21...  Training\n",
      "\n",
      "[28709 rows x 3 columns]\n",
      "       emotion                                             pixels       Usage\n",
      "28709        0  254 254 254 254 254 249 255 160 2 58 53 70 77 ...  PublicTest\n",
      "28710        1  156 184 198 202 204 207 210 212 213 214 215 21...  PublicTest\n",
      "28711        4  69 118 61 60 96 121 103 87 103 88 70 90 115 12...  PublicTest\n",
      "28712        6  205 203 236 157 83 158 120 116 94 86 155 180 2...  PublicTest\n",
      "28713        3  87 79 74 66 74 96 77 80 80 84 83 89 102 91 84 ...  PublicTest\n",
      "...        ...                                                ...         ...\n",
      "32293        4  178 176 172 173 173 174 176 173 166 166 206 22...  PublicTest\n",
      "32294        3  25 34 42 44 42 47 57 59 59 58 54 51 50 56 63 6...  PublicTest\n",
      "32295        4  255 255 255 255 255 255 255 255 255 255 255 25...  PublicTest\n",
      "32296        4  33 25 31 36 36 42 69 103 132 163 175 183 187 1...  PublicTest\n",
      "32297        4  61 63 59 75 151 159 166 161 143 170 127 131 18...  PublicTest\n",
      "\n",
      "[3589 rows x 3 columns]\n",
      "       emotion                                             pixels        Usage\n",
      "32298        0  170 118 101 88 88 75 78 82 66 74 68 59 63 64 6...  PrivateTest\n",
      "32299        5  7 5 8 6 7 3 2 6 5 4 4 5 7 5 5 5 6 7 7 7 10 10 ...  PrivateTest\n",
      "32300        6  232 240 241 239 237 235 246 117 24 24 22 13 12...  PrivateTest\n",
      "32301        4  200 197 149 139 156 89 111 58 62 95 113 117 11...  PrivateTest\n",
      "32302        2  40 28 33 56 45 33 31 78 152 194 200 186 196 20...  PrivateTest\n",
      "...        ...                                                ...          ...\n",
      "35882        6  50 36 17 22 23 29 33 39 34 37 37 37 39 43 48 5...  PrivateTest\n",
      "35883        3  178 174 172 173 181 188 191 194 196 199 200 20...  PrivateTest\n",
      "35884        0  17 17 16 23 28 22 19 17 25 26 20 24 31 19 27 9...  PrivateTest\n",
      "35885        3  30 28 28 29 31 30 42 68 79 81 77 67 67 71 63 6...  PrivateTest\n",
      "35886        2  19 13 14 12 13 16 21 33 50 57 71 84 97 108 122...  PrivateTest\n",
      "\n",
      "[3589 rows x 3 columns]\n"
     ]
    }
   ],
   "source": [
    "#数据集分割\n",
    "#将csv文件fer2013中的第三列中的'Training'作为训练集\n",
    "train_set = data[(data.Usage == 'Training')]   \n",
    "#将csv文件fer2013中的第三列中的'PublicTest'作为验证集\n",
    "val_set = data[(data.Usage =='PublicTest')]\n",
    "#将csv文件fer2013中的第三列中的'PrivateTest'作为测试集\n",
    "test_set = data[(data.Usage == 'PrivateTest')]\n",
    "#输出所定义的变量的内容\n",
    "print(train_set)\n",
    "print(val_set)\n",
    "print(test_set)"
   ]
  },
  {
   "cell_type": "code",
   "execution_count": 7,
   "metadata": {},
   "outputs": [
    {
     "name": "stdout",
     "output_type": "stream",
     "text": [
      "(28709,)\n",
      "(3589,)\n",
      "(3589,)\n"
     ]
    }
   ],
   "source": [
    "#根据定义的训练集、验证集、测试集将csv文件fer2013中的第1列'emotion'分割成3个部分\n",
    "y_train = train_set['emotion']\n",
    "y_val = val_set['emotion']\n",
    "y_test = test_set['emotion']\n",
    "#输出3个部分各部分的维度\n",
    "print(y_train.shape)\n",
    "print(y_val.shape)\n",
    "print(y_test.shape)"
   ]
  },
  {
   "cell_type": "code",
   "execution_count": 8,
   "metadata": {},
   "outputs": [
    {
     "name": "stdout",
     "output_type": "stream",
     "text": [
      "(28709, 48, 48, 1)\n",
      "(3589, 48, 48, 1)\n",
      "(3589, 48, 48, 1)\n"
     ]
    }
   ],
   "source": [
    "#将训练集、验证集、测试集的图片数值转化成float32，\n",
    "#根据训练集、验证集、测试集的图片的像素点筛选，将图片的数值内容分割成数组\n",
    "x_train = np.array(list(map(str.split, train_set.pixels)),np.float32)\n",
    "x_val = np.array(list(map(str.split, val_set.pixels)),np.float32)\n",
    "x_test = np.array(list(map(str.split, test_set.pixels)),np.float32)\n",
    "#将训练集、验证集、测试集的图片形状转换成四维数组\n",
    "#并归一化处理输入的图片数值，将其转换成0-1之间的值\n",
    "x_train = x_train.reshape(x_train.shape[0],48,48,1)/255\n",
    "x_val = x_val.reshape(x_val.shape[0],48,48,1)/255\n",
    "x_test = x_val.reshape(x_test.shape[0],48,48,1)/255\n",
    "#打印输出结果\n",
    "print(x_train.shape)\n",
    "print(x_val.shape)\n",
    "print(x_test.shape)"
   ]
  },
  {
   "cell_type": "code",
   "execution_count": 9,
   "metadata": {},
   "outputs": [
    {
     "name": "stdout",
     "output_type": "stream",
     "text": [
      "(28709, 7)\n",
      "(3589, 7)\n",
      "(3589, 7)\n"
     ]
    }
   ],
   "source": [
    "#将变量y_train、y_val、y_test处理成1行7列的one-hot编码形式\n",
    "y_train = to_categorical(y_train,7)\n",
    "y_val = to_categorical(y_val,7)\n",
    "y_test = to_categorical(y_test,7)\n",
    "#打印输出结果\n",
    "print(y_train.shape)\n",
    "print(y_val.shape)\n",
    "print(y_test.shape)"
   ]
  },
  {
   "cell_type": "code",
   "execution_count": 10,
   "metadata": {},
   "outputs": [
    {
     "name": "stdout",
     "output_type": "stream",
     "text": [
      "Model: \"sequential\"\n",
      "_________________________________________________________________\n",
      "Layer (type)                 Output Shape              Param #   \n",
      "=================================================================\n",
      "conv2d (Conv2D)              (None, 44, 44, 64)        1664      \n",
      "_________________________________________________________________\n",
      "max_pooling2d (MaxPooling2D) (None, 20, 20, 64)        0         \n",
      "_________________________________________________________________\n",
      "dropout (Dropout)            (None, 20, 20, 64)        0         \n",
      "_________________________________________________________________\n",
      "conv2d_1 (Conv2D)            (None, 18, 18, 64)        36928     \n",
      "_________________________________________________________________\n",
      "conv2d_2 (Conv2D)            (None, 16, 16, 64)        36928     \n",
      "_________________________________________________________________\n",
      "average_pooling2d (AveragePo (None, 7, 7, 64)          0         \n",
      "_________________________________________________________________\n",
      "dropout_1 (Dropout)          (None, 7, 7, 64)          0         \n",
      "_________________________________________________________________\n",
      "conv2d_3 (Conv2D)            (None, 5, 5, 128)         73856     \n",
      "_________________________________________________________________\n",
      "conv2d_4 (Conv2D)            (None, 3, 3, 128)         147584    \n",
      "_________________________________________________________________\n",
      "average_pooling2d_1 (Average (None, 1, 1, 128)         0         \n",
      "_________________________________________________________________\n",
      "dropout_2 (Dropout)          (None, 1, 1, 128)         0         \n",
      "_________________________________________________________________\n",
      "flatten (Flatten)            (None, 128)               0         \n",
      "_________________________________________________________________\n",
      "dense (Dense)                (None, 1024)              132096    \n",
      "_________________________________________________________________\n",
      "dropout_3 (Dropout)          (None, 1024)              0         \n",
      "_________________________________________________________________\n",
      "dense_1 (Dense)              (None, 1024)              1049600   \n",
      "_________________________________________________________________\n",
      "dropout_4 (Dropout)          (None, 1024)              0         \n",
      "_________________________________________________________________\n",
      "dense_2 (Dense)              (None, 7)                 7175      \n",
      "=================================================================\n",
      "Total params: 1,485,831\n",
      "Trainable params: 1,485,831\n",
      "Non-trainable params: 0\n",
      "_________________________________________________________________\n"
     ]
    }
   ],
   "source": [
    "#创建CNN模型\n",
    "model = tf.keras.models.Sequential([\n",
    "    #第一层卷积层，传入图片所需的input_shape参数的值，卷积核大小为5*5，滤波器64个，激活函数为relu\n",
    "    tf.keras.layers.Conv2D(filters=64,kernel_size=(5,5),activation='relu',input_shape=(48, 48, 1)),\n",
    "    #最大池化层，池化窗口为5*5，步长为2\n",
    "    tf.keras.layers.MaxPooling2D(pool_size=(5,5),strides=(2,2)),\n",
    "    tf.keras.layers.Dropout(0.5),\n",
    "    \n",
    "    #第二层卷积层\n",
    "    tf.keras.layers.Conv2D(filters=64,kernel_size=(3,3),activation='relu'),\n",
    "    tf.keras.layers.Conv2D(filters=64,kernel_size=(3,3),activation='relu'),\n",
    "    #平均池化层，池化窗口为3*3，步长为2\n",
    "    tf.keras.layers.AveragePooling2D(pool_size=(3,3),strides=(2,2)),\n",
    "    tf.keras.layers.Dropout(0.5),\n",
    "    \n",
    "    #第三层卷积层\n",
    "    tf.keras.layers.Conv2D(filters=128,kernel_size=(3,3),activation='relu'),\n",
    "    tf.keras.layers.Conv2D(filters=128,kernel_size=(3,3),activation='relu'),\n",
    "    tf.keras.layers.AveragePooling2D(pool_size=(3,3),strides=(2,2)),\n",
    "    tf.keras.layers.Dropout(0.5),\n",
    "    #Flatten函数将矩阵拉直成一维向量\n",
    "    tf.keras.layers.Flatten(),\n",
    "    \n",
    "    #1024个全连接层\n",
    "    tf.keras.layers.Dense(units=1024,activation='relu'),\n",
    "    tf.keras.layers.Dropout(0.2),\n",
    "    tf.keras.layers.Dense(units=1024,activation='relu'),\n",
    "    tf.keras.layers.Dropout(0.2),\n",
    "    #Dense函数构造全连接层，7个神经元，激活函数为softmax\n",
    "    tf.keras.layers.Dense(7,activation='softmax')\n",
    "])\n",
    "#通过summary方法给出模型概要和参数情况\n",
    "model.summary()"
   ]
  },
  {
   "cell_type": "code",
   "execution_count": 11,
   "metadata": {},
   "outputs": [],
   "source": [
    "#模型编译通过model.compile实现。损失函数为类别交叉熵，以Adam为优化器，用accuracy来衡量效果\n",
    "model.compile(loss='categorical_crossentropy',optimizer='adam',metrics=['accuracy'])"
   ]
  },
  {
   "cell_type": "code",
   "execution_count": 12,
   "metadata": {},
   "outputs": [
    {
     "name": "stdout",
     "output_type": "stream",
     "text": [
      "Epoch 1/5\n",
      "240/240 [==============================] - 78s 316ms/step - loss: 1.8399 - accuracy: 0.2305 - val_loss: 1.8155 - val_accuracy: 0.2494\n",
      "Epoch 2/5\n",
      "240/240 [==============================] - 75s 311ms/step - loss: 1.8132 - accuracy: 0.2527 - val_loss: 1.8118 - val_accuracy: 0.2494\n",
      "Epoch 3/5\n",
      "240/240 [==============================] - 76s 315ms/step - loss: 1.8115 - accuracy: 0.2520 - val_loss: 1.8083 - val_accuracy: 0.2494\n",
      "Epoch 4/5\n",
      "240/240 [==============================] - 76s 318ms/step - loss: 1.8041 - accuracy: 0.2487 - val_loss: 1.7975 - val_accuracy: 0.2669\n",
      "Epoch 5/5\n",
      "240/240 [==============================] - 74s 308ms/step - loss: 1.7749 - accuracy: 0.2596 - val_loss: 1.7139 - val_accuracy: 0.2945\n"
     ]
    }
   ],
   "source": [
    "#拟合模型，\n",
    "#history = model.fit(x_train,y_train,batch_size=120,epochs=5,validation_data=(x_val,y_val), verbose=1)"
   ]
  },
  {
   "cell_type": "code",
   "execution_count": 13,
   "metadata": {},
   "outputs": [
    {
     "name": "stdout",
     "output_type": "stream",
     "text": [
      "Epoch 1/20\n",
      "113/113 [==============================] - 71s 626ms/step - loss: 1.7139 - accuracy: 0.2925 - val_loss: 1.6763 - val_accuracy: 0.3165\n",
      "Epoch 2/20\n",
      "113/113 [==============================] - 71s 624ms/step - loss: 1.6894 - accuracy: 0.3091 - val_loss: 1.7282 - val_accuracy: 0.2892\n",
      "Epoch 3/20\n",
      "113/113 [==============================] - 71s 627ms/step - loss: 1.6537 - accuracy: 0.3346 - val_loss: 1.5775 - val_accuracy: 0.3773\n",
      "Epoch 4/20\n",
      "113/113 [==============================] - 76s 675ms/step - loss: 1.6033 - accuracy: 0.3593 - val_loss: 1.5805 - val_accuracy: 0.3792\n",
      "Epoch 5/20\n",
      "113/113 [==============================] - 71s 625ms/step - loss: 1.5716 - accuracy: 0.3758 - val_loss: 1.5022 - val_accuracy: 0.4101\n",
      "Epoch 6/20\n",
      "113/113 [==============================] - 76s 669ms/step - loss: 1.5288 - accuracy: 0.3971 - val_loss: 1.4629 - val_accuracy: 0.4316\n",
      "Epoch 7/20\n",
      "113/113 [==============================] - 71s 628ms/step - loss: 1.5012 - accuracy: 0.4106 - val_loss: 1.4435 - val_accuracy: 0.4441\n",
      "Epoch 8/20\n",
      "113/113 [==============================] - 72s 637ms/step - loss: 1.4807 - accuracy: 0.4206 - val_loss: 1.4205 - val_accuracy: 0.4458\n",
      "Epoch 9/20\n",
      "113/113 [==============================] - 72s 641ms/step - loss: 1.4653 - accuracy: 0.4288 - val_loss: 1.4245 - val_accuracy: 0.4522\n",
      "Epoch 10/20\n",
      "113/113 [==============================] - 76s 672ms/step - loss: 1.4332 - accuracy: 0.4471 - val_loss: 1.4017 - val_accuracy: 0.4609\n",
      "Epoch 11/20\n",
      "113/113 [==============================] - 72s 639ms/step - loss: 1.4236 - accuracy: 0.4485 - val_loss: 1.3699 - val_accuracy: 0.4687\n",
      "Epoch 12/20\n",
      "113/113 [==============================] - 76s 676ms/step - loss: 1.3991 - accuracy: 0.4579 - val_loss: 1.3430 - val_accuracy: 0.4778\n",
      "Epoch 13/20\n",
      "113/113 [==============================] - 71s 624ms/step - loss: 1.3804 - accuracy: 0.4663 - val_loss: 1.3187 - val_accuracy: 0.4921\n",
      "Epoch 14/20\n",
      "113/113 [==============================] - 71s 628ms/step - loss: 1.3660 - accuracy: 0.4744 - val_loss: 1.3147 - val_accuracy: 0.4921\n",
      "Epoch 15/20\n",
      "113/113 [==============================] - 73s 647ms/step - loss: 1.3504 - accuracy: 0.4811 - val_loss: 1.2903 - val_accuracy: 0.5138\n",
      "Epoch 16/20\n",
      "113/113 [==============================] - 72s 638ms/step - loss: 1.3385 - accuracy: 0.4889 - val_loss: 1.2951 - val_accuracy: 0.5021\n",
      "Epoch 17/20\n",
      "113/113 [==============================] - 73s 648ms/step - loss: 1.3227 - accuracy: 0.4908 - val_loss: 1.2959 - val_accuracy: 0.5065\n",
      "Epoch 18/20\n",
      "113/113 [==============================] - 71s 633ms/step - loss: 1.3064 - accuracy: 0.5003 - val_loss: 1.2621 - val_accuracy: 0.5171\n",
      "Epoch 19/20\n",
      "113/113 [==============================] - 73s 650ms/step - loss: 1.2955 - accuracy: 0.5046 - val_loss: 1.2621 - val_accuracy: 0.5166\n",
      "Epoch 20/20\n",
      "113/113 [==============================] - 73s 644ms/step - loss: 1.2810 - accuracy: 0.5114 - val_loss: 1.2432 - val_accuracy: 0.5238\n"
     ]
    }
   ],
   "source": [
    "#拟合模型，\n",
    "history = model.fit(x_train,y_train,batch_size=256,epochs=20,validation_data=(x_val,y_val), verbose=1)"
   ]
  },
  {
   "cell_type": "code",
   "execution_count": 14,
   "metadata": {},
   "outputs": [],
   "source": [
    "#保存模型\n",
    "model.save('CNN.h5')"
   ]
  },
  {
   "cell_type": "code",
   "execution_count": 15,
   "metadata": {},
   "outputs": [
    {
     "name": "stdout",
     "output_type": "stream",
     "text": [
      "the accuracy: 0.1368069052696228\n"
     ]
    }
   ],
   "source": [
    "#评估模型\n",
    "test_score = model.evaluate(x_test,y_test,verbose=0)\n",
    "#输出其精确度\n",
    "print('the accuracy:',test_score[1])"
   ]
  },
  {
   "cell_type": "code",
   "execution_count": 16,
   "metadata": {},
   "outputs": [
    {
     "data": {
      "image/png": "[encoded data removed]",
      "text/plain": [
       "<Figure size 432x288 with 1 Axes>"
      ]
     },
     "metadata": {
      "needs_background": "light"
     },
     "output_type": "display_data"
    }
   ],
   "source": [
    " #绘制训练时和验证时的精确度走势\n",
    "plt.plot(history.history['accuracy'])\n",
    "plt.plot(history.history['val_accuracy'])\n",
    "plt.title('model accuracy') #图表标题\n",
    "plt.ylabel('accuracy')      #纵坐标标题\n",
    "plt.xlabel('epoch')         #横坐标标题\n",
    "plt.legend(['train','valid'],loc='upper left') #图例放在左上角\n",
    "plt.show() #展示图片"
   ]
  },
  {
   "cell_type": "code",
   "execution_count": 17,
   "metadata": {},
   "outputs": [
    {
     "data": {
      "image/png": "[encoded data removed]",
      "text/plain": [
       "<Figure size 432x288 with 1 Axes>"
      ]
     },
     "metadata": {
      "needs_background": "light"
     },
     "output_type": "display_data"
    }
   ],
   "source": [
    " #绘制训练时和验证时的损失值走势\n",
    "plt.plot(history.history['loss'])\n",
    "plt.plot(history.history['val_loss'])\n",
    "plt.title('model accuracy')#图表标题\n",
    "plt.ylabel('loss')         #纵坐标标题\n",
    "plt.xlabel('epoch')        #横坐标标题\n",
    "plt.legend(['train','valid'],loc='upper left')#图例放在左上角\n",
    "plt.show()#展示图片"
   ]
  },
  {
   "cell_type": "code",
   "execution_count": 24,
   "metadata": {},
   "outputs": [
    {
     "name": "stdout",
     "output_type": "stream",
     "text": [
      "(1000, 1000, 3)\n",
      "[[0.26939198 0.02163552 0.21735696 0.1988384  0.12495904 0.12499505\n",
      "  0.04282317]]\n"
     ]
    },
    {
     "data": {
      "image/png": "[encoded data removed]",
      "text/plain": [
       "<Figure size 432x288 with 1 Axes>"
      ]
     },
     "metadata": {
      "needs_background": "light"
     },
     "output_type": "display_data"
    }
   ],
   "source": [
    "# from tensorflow.keras.models import load_model\n",
    "# import matplotlib.pyplot as plt\n",
    "# import cv2\n",
    "# import numpy as np\n",
    "# img = cv2.imread('test_imgs/victor_7.jpg')\n",
    "# print(img.shape)\n",
    "# img = np.array(cv2.cvtColor(img,cv2.COLOR_BGR2GRAY))\n",
    "# img = cv2.resize(img,(48,48))/255\n",
    "# model = load_model('CNN.h5')\n",
    "# pred = model.predict(img.reshape(1,48,48,1))\n",
    "# emotion_label_to_text = {0:'anger', 1:'disgust', 2:'fear', 3:'happiness', 4:'sadness', 5:'surprise', 6:'neutral'}\n",
    "# pred = emotion_label_to_text[pred.argmax()]\n",
    "# print(pred)\n",
    "\n",
    "# plt.imshow(img.reshape())\n",
    "\n",
    "from tensorflow.keras.models import load_model\n",
    "import matplotlib.pyplot as plt\n",
    "import cv2\n",
    "import numpy as np\n",
    "img = cv2.imread('test_imgs/victor_7.jpg')\n",
    "print(img.shape)\n",
    "img = np.array(cv2.cvtColor(img,cv2.COLOR_BGR2GRAY))\n",
    "img = cv2.resize(img,(48,48))/255\n",
    "model = load_model('CNN.h5')\n",
    "pred = model.predict(img.reshape(1,48,48,1))\n",
    "emotion_label_to_text = {0:'anger', 1:'disgust', 2:'fear', 3:'happiness', 4:'sadness', 5:'surprise', 6:'neutral'}\n",
    "print(pred)\n",
    "plt.imshow(img)\n",
    "plt.title(emotion_label_to_text[pred.argmax()])\n",
    "pred = emotion_label_to_text[pred.argmax()]\n"
   ]
  },
  {
   "cell_type": "code",
   "execution_count": null,
   "metadata": {},
   "outputs": [],
   "source": []
  }
 ],
 "metadata": {
  "kernelspec": {
   "display_name": "Python 3",
   "language": "python",
   "name": "python3"
  },
  "language_info": {
   "codemirror_mode": {
    "name": "ipython",
    "version": 3
   },
   "file_extension": ".py",
   "mimetype": "text/x-python",
   "name": "python",
   "nbconvert_exporter": "python",
   "pygments_lexer": "ipython3",
   "version": "3.8.5"
  }
 },
 "nbformat": 4,
 "nbformat_minor": 4
}
