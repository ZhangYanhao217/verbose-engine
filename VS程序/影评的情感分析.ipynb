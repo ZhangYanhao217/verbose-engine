{
 "cells": [
  {
   "cell_type": "code",
   "execution_count": 5,
   "metadata": {},
   "outputs": [],
   "source": [
    "#基于Keras的长短期记忆网络实现影评的情感分析\n",
    "#数据预处理\n",
    "import numpy\n",
    "from keras.datasets import imdb\n",
    "from keras.models import Sequential\n",
    "from keras.layers import Dense,LSTM\n",
    "from keras.layers.embeddings import Embedding\n",
    "from keras.preprocessing import sequence\n",
    "\n",
    "#为了确保可复现性，我们设置一个随机种子\n",
    "numpy.random.seed(7)\n",
    "\n",
    "#设置5000的意思是只保留前面5000个常见的单词，其他的都为0\n",
    "top_words = 5000\n",
    "#加载数据集\n",
    "(X_train,Y_train),(X_test,Y_test) = imdb.load_data(num_words=top_words)\n",
    "#设置单个影评的最大长度是500\n",
    "review_max_length = 500\n",
    "#影评长度不够，500的用0填充，超过500的截断\n",
    "X_train = sequence.pad_sequences(X_train,maxlen = review_max_length)\n",
    "X_test = sequence.pad_sequences(X_test,maxlen = review_max_length)"
   ]
  },
  {
   "cell_type": "code",
   "execution_count": 6,
   "metadata": {},
   "outputs": [
    {
     "name": "stdout",
     "output_type": "stream",
     "text": [
      "Model: \"sequential\"\n",
      "_________________________________________________________________\n",
      "Layer (type)                 Output Shape              Param #   \n",
      "=================================================================\n",
      "embedding (Embedding)        (None, 500, 32)           160000    \n",
      "_________________________________________________________________\n",
      "lstm (LSTM)                  (None, 100)               53200     \n",
      "_________________________________________________________________\n",
      "dense (Dense)                (None, 1)                 101       \n",
      "=================================================================\n",
      "Total params: 213,301\n",
      "Trainable params: 213,301\n",
      "Non-trainable params: 0\n",
      "_________________________________________________________________\n"
     ]
    }
   ],
   "source": [
    "\n",
    "embedding_vecor_length=32\n",
    "model=Sequential()\n",
    "#添加输入嵌入层\n",
    "model.add(Embedding(top_words,embedding_vecor_length,input_length=review_max_length))\n",
    "#添加LSTM隐藏层\n",
    "model.add(LSTM(100))\n",
    "#添加输出层（全连接层），二分类问题，使用sigmoid激活函数\n",
    "model.add(Dense(1,activation='sigmoid'))\n",
    "#编译模型，二分类问题，使用二进制交叉熵来计算损失\n",
    "model.compile(loss='binary_crossentropy',optimizer='adam',metrics=['accuracy'])\n",
    "#3.预览模型\n",
    "model.summary()"
   ]
  },
  {
   "cell_type": "code",
   "execution_count": 7,
   "metadata": {},
   "outputs": [
    {
     "name": "stdout",
     "output_type": "stream",
     "text": [
      "Epoch 1/6\n",
      "253/253 [==============================] - 118s 462ms/step - loss: 0.5923 - accuracy: 0.6757\n",
      "Epoch 2/6\n",
      "253/253 [==============================] - 122s 483ms/step - loss: 0.3394 - accuracy: 0.8646\n",
      "Epoch 3/6\n",
      "253/253 [==============================] - 123s 485ms/step - loss: 0.2759 - accuracy: 0.8907\n",
      "Epoch 4/6\n",
      "253/253 [==============================] - 122s 484ms/step - loss: 0.2478 - accuracy: 0.9066\n",
      "Epoch 5/6\n",
      "253/253 [==============================] - 124s 489ms/step - loss: 0.2046 - accuracy: 0.9270\n",
      "Epoch 6/6\n",
      "253/253 [==============================] - 123s 488ms/step - loss: 0.1775 - accuracy: 0.9363\n"
     ]
    },
    {
     "data": {
      "text/plain": [
       "<tensorflow.python.keras.callbacks.History at 0x1db13a60>"
      ]
     },
     "execution_count": 7,
     "metadata": {},
     "output_type": "execute_result"
    }
   ],
   "source": [
    "#训练模型\n",
    "model.fit(X_train,Y_train,epochs=2,batch_size=88)"
   ]
  },
  {
   "cell_type": "code",
   "execution_count": 10,
   "metadata": {},
   "outputs": [
    {
     "name": "stdout",
     "output_type": "stream",
     "text": [
      "Accuracy:95.97720324993134\n"
     ]
    }
   ],
   "source": [
    "#模型评估\n",
    "scores =model.evaluate(X_test,Y_test,verbose=0)\n",
    "print(\"Accuracy:{}\".format((scores[1]*100)))"
   ]
  },
  {
   "cell_type": "code",
   "execution_count": null,
   "metadata": {},
   "outputs": [],
   "source": []
  }
 ],
 "metadata": {
  "kernelspec": {
   "display_name": "Python 3",
   "language": "python",
   "name": "python3"
  },
  "language_info": {
   "codemirror_mode": {
    "name": "ipython",
    "version": 3
   },
   "file_extension": ".py",
   "mimetype": "text/x-python",
   "name": "python",
   "nbconvert_exporter": "python",
   "pygments_lexer": "ipython3",
   "version": "3.8.5"
  }
 },
 "nbformat": 4,
 "nbformat_minor": 4
}
