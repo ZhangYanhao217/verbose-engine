{
 "cells": [
  {
   "cell_type": "code",
   "execution_count": 3,
   "metadata": {},
   "outputs": [
    {
     "ename": "ModuleNotFoundError",
     "evalue": "No module named 'paddlehub'",
     "output_type": "error",
     "traceback": [
      "\u001b[1;31m---------------------------------------------------------------------------\u001b[0m",
      "\u001b[1;31mModuleNotFoundError\u001b[0m                       Traceback (most recent call last)",
      "\u001b[1;32m<ipython-input-3-98e6ec280550>\u001b[0m in \u001b[0;36m<module>\u001b[1;34m\u001b[0m\n\u001b[1;32m----> 1\u001b[1;33m \u001b[1;32mimport\u001b[0m \u001b[0mpaddlehub\u001b[0m \u001b[1;32mas\u001b[0m \u001b[0mhub\u001b[0m\u001b[1;33m\u001b[0m\u001b[1;33m\u001b[0m\u001b[0m\n\u001b[0m\u001b[0;32m      2\u001b[0m \u001b[1;32mimport\u001b[0m \u001b[0mcv2\u001b[0m\u001b[1;33m\u001b[0m\u001b[1;33m\u001b[0m\u001b[0m\n\u001b[0;32m      3\u001b[0m \u001b[1;32mimport\u001b[0m \u001b[0mmatplotlib\u001b[0m\u001b[1;33m.\u001b[0m\u001b[0mpyplot\u001b[0m \u001b[1;32mas\u001b[0m \u001b[0mplt\u001b[0m\u001b[1;33m\u001b[0m\u001b[1;33m\u001b[0m\u001b[0m\n\u001b[0;32m      4\u001b[0m \u001b[1;32mimport\u001b[0m \u001b[0mnumpy\u001b[0m \u001b[1;32mas\u001b[0m \u001b[0mnp\u001b[0m\u001b[1;33m\u001b[0m\u001b[1;33m\u001b[0m\u001b[0m\n\u001b[0;32m      5\u001b[0m \u001b[1;32mfrom\u001b[0m \u001b[0mPIL\u001b[0m \u001b[1;32mimport\u001b[0m \u001b[0mImage\u001b[0m\u001b[1;33m\u001b[0m\u001b[1;33m\u001b[0m\u001b[0m\n",
      "\u001b[1;31mModuleNotFoundError\u001b[0m: No module named 'paddlehub'"
     ]
    }
   ],
   "source": [
    "import paddlehub as hub\n",
    "import cv2\n",
    "import matplotlib.pyplot as plt\n",
    "import numpy as np\n",
    "from PIL import Image\n",
    "test_img_path = \"22.jpg\"\n",
    "img = cv2.imread(test_img_path)\n",
    "cv2.imshow('org',img)\n",
    "cv2.waitKey(0)\n",
    "cv2.destroyAllWindows()\n",
    "\n"
   ]
  },
  {
   "cell_type": "code",
   "execution_count": null,
   "metadata": {},
   "outputs": [],
   "source": [
    "human_seg = hub.Module(name='deeplabv3p_xception65_humanseg')\n",
    "result = human_seg.segmentation(images=[cv2.imread(test_img_path)],visualization=True,output_dir='./')\n",
    "print(result)\n",
    "# 将轮廓保存为图片\n",
    "res_image = Image.fromarray(np.uint8(result[0]['data']))\n",
    "path = \"D:/python_code/Jupyter Notebook/paddleee/new.jpg\"\n",
    "res_image.save(path)\n",
    "\n",
    "counter_img_path = path\n",
    "img_counter = cv2.imread(counter_img_path)\n",
    "img_gray = cv2.cvtColor(img_counter,cv2.COLOR_BGR2GRAY)\n",
    "ret,thresh1 = cv2.threshold(img_gray,200,255,cv2.THRESH_BINARY)\n",
    "kernel = cv2.getStructuringElement(cv2.MORPH_CROSS, (5,5))\n",
    "erode = cv2.erode(thresh1,kernel,iterations=2)\n",
    "dilate = cv2.dilate(erode,kernel,iterations=2)\n",
    "cv2.imshow('dilate',dilate)\n",
    "cv2.imshow('erode',erode)\n",
    "cv2.imshow('gray_img',img_gray)\n",
    "cv2.imshow('binary_img',thresh1)\n",
    "cv2.imshow('counter_img',img_counter)\n",
    "cv2.waitKey(0)\n",
    "cv2.destroyAllWindows()"
   ]
  },
  {
   "cell_type": "code",
   "execution_count": null,
   "metadata": {},
   "outputs": [],
   "source": [
    "HEIGHT = img_counter.shape[0]\n",
    "WEIGHT = img_counter.shape[1]\n",
    "CHANNLE = img_counter.shape[2]\n",
    "for i in range(HEIGHT):\n",
    "    for j in range(WEIGHT):\n",
    "        if dilate[i,j] == 0:\n",
    "            img[i,j] = [0,0,255]\n",
    "cv2.imshow('change_img',cv2.resize(img,dsize=None,fx=0.5,fy=0.5,interpolation = cv2.INTER_NEAREST))\n",
    "# cv2.imwrite('D:/python_code/Jupyter Notebook/paddleee/red_img_zhou.jpg',img)# 保存图片的方法\n",
    "cv2.waitKey(0)\n",
    "cv2.destroyAllWindows()"
   ]
  }
 ],
 "metadata": {
  "kernelspec": {
   "display_name": "Python 3",
   "language": "python",
   "name": "python3"
  },
  "language_info": {
   "codemirror_mode": {
    "name": "ipython",
    "version": 3
   },
   "file_extension": ".py",
   "mimetype": "text/x-python",
   "name": "python",
   "nbconvert_exporter": "python",
   "pygments_lexer": "ipython3",
   "version": "3.8.5"
  }
 },
 "nbformat": 4,
 "nbformat_minor": 4
}
