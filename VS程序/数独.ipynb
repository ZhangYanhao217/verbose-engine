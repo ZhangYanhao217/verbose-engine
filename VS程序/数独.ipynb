{
 "cells": [
  {
   "cell_type": "code",
   "execution_count": 2,
   "metadata": {},
   "outputs": [
    {
     "name": "stdout",
     "output_type": "stream",
     "text": [
      "[[0, 0, 0, 0, 0, 0, 0, 0, 0], [0, 0, 0, 0, 0, 0, 0, 0, 0], [0, 0, 0, 0, 0, 0, 0, 0, 0], [0, 0, 0, 0, 0, 0, 0, 0, 0], [0, 0, 0, 0, 0, 0, 0, 0, 0], [0, 0, 0, 0, 0, 0, 0, 0, 0], [0, 0, 0, 0, 0, 0, 0, 0, 0], [0, 0, 0, 0, 0, 0, 0, 0, 0], [0, 0, 0, 0, 0, 0, 0, 0, 0]]\n"
     ]
    }
   ],
   "source": [
    "import random\n",
    "\n",
    "def generate_sudoku():\n",
    "    # 创建一个9x9的空数独\n",
    "    sudoku = [[0 for _ in range(9)] for _ in range(9)]\n",
    "    # 使用回溯算法填充数独\n",
    "    solve_sudoku(sudoku)\n",
    "    # 随机挖空生成谜题\n",
    "    create_puzzle(sudoku)\n",
    "    return sudoku\n",
    "\n",
    "def solve_sudoku(sudoku):\n",
    "    # 实现回溯算法来填充数独\n",
    "    pass\n",
    "\n",
    "def create_puzzle(sudoku):\n",
    "    # 随机挖空生成谜题\n",
    "    pass\n",
    "\n",
    "# 生成数独游戏\n",
    "sudoku_game = generate_sudoku()\n",
    "print(sudoku_game)\n"
   ]
  },
  {
   "cell_type": "code",
   "execution_count": 5,
   "metadata": {},
   "outputs": [
    {
     "name": "stdout",
     "output_type": "stream",
     "text": [
      "[5, 3, 9, 1, 4, 8, 6, 2, 7]\n",
      "[8, 6, 1, 7, 5, 2, 4, 3, 9]\n",
      "[4, 7, 2, 3, 6, 9, 8, 5, 1]\n",
      "[9, 1, 8, 6, 2, 5, 3, 7, 4]\n",
      "[3, 2, 7, 8, 1, 4, 5, 9, 6]\n",
      "[6, 5, 4, 9, 3, 7, 1, 8, 2]\n",
      "[7, 8, 3, 4, 9, 1, 2, 6, 5]\n",
      "[1, 9, 5, 2, 8, 6, 7, 4, 3]\n",
      "[2, 4, 6, 5, 7, 3, 9, 1, 8]\n"
     ]
    }
   ],
   "source": [
    "import random\n",
    "\n",
    "def is_valid(board, row, col, num):\n",
    "    # Check if the number is already in the row\n",
    "    if num in board[row]:\n",
    "        return False\n",
    "    # Check if the number is already in the column\n",
    "    if num in [board[i][col] for i in range(9)]:\n",
    "        return False\n",
    "    # Check if the number is already in the 3x3 subgrid\n",
    "    subgrid_row, subgrid_col = 3 * (row // 3), 3 * (col // 3)\n",
    "    for i in range(subgrid_row, subgrid_row + 3):\n",
    "        for j in range(subgrid_col, subgrid_col + 3):\n",
    "            if board[i][j] == num:\n",
    "                return False\n",
    "    return True\n",
    "\n",
    "def solve_sudoku(board):\n",
    "    for row in range(9):\n",
    "        for col in range(9):\n",
    "            if board[row][col] == 0:\n",
    "                for num in random.sample(range(1, 10), 9):\n",
    "                    if is_valid(board, row, col, num):\n",
    "                        board[row][col] = num\n",
    "                        if solve_sudoku(board):\n",
    "                            return True\n",
    "                        board[row][col] = 0\n",
    "                return False\n",
    "    return True\n",
    "\n",
    "def generate_sudoku():\n",
    "    board = [[0] * 9 for _ in range(9)]\n",
    "    solve_sudoku(board)\n",
    "    return board\n",
    "\n",
    "sudoku = generate_sudoku()\n",
    "for row in sudoku:\n",
    "    print(row)\n"
   ]
  },
  {
   "cell_type": "code",
   "execution_count": 26,
   "metadata": {},
   "outputs": [
    {
     "name": "stdout",
     "output_type": "stream",
     "text": [
      "[4, 8, 6, 9, 5, 2, 7, 1, 3]\n",
      "[7, 5, 1, 6, 4, 3, 8, 2, 9]\n",
      "[2, 3, 9, 7, 8, 1, 4, 6, 5]\n",
      "[6, 2, 3, 1, 7, 9, 5, 4, 8]\n",
      "[5, 4, 7, 8, 2, 6, 9, 3, 1]\n",
      "[9, 1, 8, 4, 3, 5, 6, 7, 2]\n",
      "[8, 7, 2, 3, 9, 4, 1, 5, 6]\n",
      "[1, 9, 5, 2, 6, 7, 3, 8, 4]\n",
      "[3, 6, 4, 5, 1, 8, 2, 9, 7]\n"
     ]
    }
   ],
   "source": [
    "import random\n",
    "\n",
    "def is_valid(board, row, col, num):\n",
    "    # 检查同一行是否已经有相同的数字\n",
    "    if num in board[row]:\n",
    "        return False\n",
    "    # 检查同一列是否已经有相同的数字\n",
    "    if num in [board[i][col] for i in range(9)]:\n",
    "        return False\n",
    "    # 检查3x3子网格中是否已经有相同的数字\n",
    "    subgrid_row, subgrid_col = 3 * (row // 3), 3 * (col // 3)\n",
    "    for i in range(subgrid_row, subgrid_row + 3):\n",
    "        for j in range(subgrid_col, subgrid_col + 3):\n",
    "            if board[i][j] == num:\n",
    "                return False\n",
    "    return True\n",
    "\n",
    "def solve_sudoku(board):\n",
    "    for row in range(9):\n",
    "        for col in range(9):\n",
    "            if board[row][col] == 0:\n",
    "                for num in random.sample(range(1, 10), 9):  # 随机尝试填入数字\n",
    "                    if is_valid(board, row, col, num):  # 如果数字合法\n",
    "                        board[row][col] = num  # 填入数字\n",
    "                        if solve_sudoku(board):  # 递归求解数独\n",
    "                            return True\n",
    "                        board[row][col] = 0  # 回溯\n",
    "                return False\n",
    "    return True\n",
    "\n",
    "def generate_sudoku():\n",
    "    board = [[0] * 9 for _ in range(9)]  # 创建一个空的数独棋盘\n",
    "    solve_sudoku(board)  # 生成数独题目\n",
    "    return board\n",
    "\n",
    "def remove_numbers(board, difficulty):\n",
    "    if difficulty == \"easy\":\n",
    "        num_to_remove = 40\n",
    "    elif difficulty == \"medium\":\n",
    "        num_to_remove = 50\n",
    "    elif difficulty == \"hard\":\n",
    "        num_to_remove = 60\n",
    "    else:\n",
    "        num_to_remove = 50\n",
    "\n",
    "    positions = [(i, j) for i in range(9) for j in range(9)]  # 生成所有位置的列表\n",
    "    random.shuffle(positions)  # 随机打乱位置列表\n",
    "    for i, j in positions:\n",
    "        temp = board[i][j]  # 保存当前位置的数字\n",
    "        board[i][j] = 0  # 删除当前位置的数字\n",
    "        temp_board = [row[:] for row in board]  # 创建棋盘的副本\n",
    "        count = [0]\n",
    "        solve_sudoku(temp_board)  # 求解数独\n",
    "        if count[0] != 1:  # 如果有多个解\n",
    "            board[i][j] = temp  # 恢复当前位置的数字\n",
    "        num_to_remove -= 1  # 更新还需要删除的数字数量\n",
    "        if num_to_remove == 0:  # 如果已经删除足够数量的数字\n",
    "            break\n",
    "\n",
    "    return board\n",
    "\n",
    "sudoku = generate_sudoku()  # 生成数独题目\n",
    "difficulty = \"hard\"  # 选择难度级别：easy, medium, 或 hard\n",
    "puzzle = remove_numbers(sudoku, difficulty)  # 根据难度级别删除数字\n",
    "\n",
    "for row in puzzle:\n",
    "    print(row)  # 打印数独题目\n"
   ]
  }
 ],
 "metadata": {
  "kernelspec": {
   "display_name": "Python 3",
   "language": "python",
   "name": "python3"
  },
  "language_info": {
   "codemirror_mode": {
    "name": "ipython",
    "version": 3
   },
   "file_extension": ".py",
   "mimetype": "text/x-python",
   "name": "python",
   "nbconvert_exporter": "python",
   "pygments_lexer": "ipython3",
   "version": "3.12.0"
  }
 },
 "nbformat": 4,
 "nbformat_minor": 2
}
